{
 "cells": [
  {
   "cell_type": "markdown",
   "id": "b4362274",
   "metadata": {},
   "source": [
    "# Prerequisite test"
   ]
  },
  {
   "cell_type": "markdown",
   "id": "9623a3d4",
   "metadata": {},
   "source": [
    "### Question 1"
   ]
  },
  {
   "cell_type": "markdown",
   "id": "e24d2774",
   "metadata": {},
   "source": [
    "1. We would require (n * k * m)  multiplications, and (n * k-1 * m) additions.<br>\n",
    "2. After matrix multiplication is done, we get a (n x m) matrix. <br>\n",
    "3. We can say the number of operations performed to obtain any element of the (n x m) is same. <br>\n",
    "4. Therefore, for each element formed, k elements of one row and k elements of one column are involved.<br>\n",
    "5. We get k multiplications and k-1 additions.<br>\n",
    "6. Therefore, in total, (n * k * m)  multiplications, and (n * k-1 * m) additions.<br>"
   ]
  },
  {
   "cell_type": "markdown",
   "id": "772483f1",
   "metadata": {},
   "source": [
    "### Question2"
   ]
  },
  {
   "cell_type": "code",
   "execution_count": 483,
   "id": "797bccd7",
   "metadata": {},
   "outputs": [],
   "source": [
    "from random import randint\n",
    "import random\n",
    "import numpy as np\n",
    "import time "
   ]
  },
  {
   "cell_type": "code",
   "execution_count": 484,
   "id": "bcd31439",
   "metadata": {},
   "outputs": [],
   "source": [
    "#initializing the matrices, and dimensions\n",
    "n = 25\n",
    "k = 20\n",
    "m = 30\n",
    "M1 = [[randint(0,50) for _ in range(k)] for j in range(n) ]\n",
    "M2 = [[randint(0,50) for _ in range(m)] for j in range(k) ]\n",
    "# print(M1)\n",
    "# print(M2)"
   ]
  },
  {
   "cell_type": "code",
   "execution_count": 485,
   "id": "ebf1449d",
   "metadata": {},
   "outputs": [],
   "source": [
    "#calculating the time taken for explict matrix multiplication\n",
    "def my_matmul() :\n",
    "    begin1 = time.time()\n",
    "    res = [[0 for i in range(m)] for j in range(n) ] \n",
    "    for i in range(n) :\n",
    "        for j in range(m) :\n",
    "            elem = 0 ;\n",
    "            for w in range(k) :\n",
    "                elem +=  M1[i][w] * M2[w][j] \n",
    "            res[i][j]= elem \n",
    "    end1 = time.time()\n",
    "    return end1-begin1 \n",
    "\n",
    "# print(\"time taken: \",-begin1+end1) \n",
    "# print(\"result\",res)\n",
    "\n",
    "#calculating the time taken for numpy matrix multiplication\n",
    "N1 = np.array(M1)\n",
    "N2 = np.array(M2)\n",
    "def np_matmul() :\n",
    "    begin2 = time.time()\n",
    "    ans = np.matmul(N1,N2)\n",
    "    end2 = time.time()\n",
    "#     print(end2-begin2)\n",
    "    return end2-begin2\n",
    "\n",
    "# print(\"time taken: \",-begin2+end2) \n",
    "# print(\"result\",ans)"
   ]
  },
  {
   "cell_type": "code",
   "execution_count": 486,
   "id": "6b922dad",
   "metadata": {},
   "outputs": [
    {
     "name": "stdout",
     "output_type": "stream",
     "text": [
      "my algorithm average time:  0.0016151940822601318\n",
      "numpy algorithm average time:  2.031135559082031e-05\n",
      "my algorithm standard deviation :  0.00010129912270104505\n",
      "numpy algorithm standard deviation:  1.920561790223611e-05\n"
     ]
    }
   ],
   "source": [
    "N = 1000#Number of experiments\n",
    "# q = np.sqrt(N,dtype = int)\n",
    "np_time = np.zeros(N, float)\n",
    "my_time = np.zeros(N,float) \n",
    "for i in range(N) :\n",
    "    my_time[i]= my_matmul()\n",
    "    np_time[i]= np_matmul()\n",
    "    \n",
    "# print(my_time)\n",
    "# print(np_time)\n",
    "my_avg = np.mean(my_time)\n",
    "np_avg = np.mean(np_time)\n",
    "\n",
    "my_std = np.std(my_time)\n",
    "np_std = np.std(np_time)\n",
    "\n",
    "print(\"my algorithm average time: \",my_avg)\n",
    "print(\"numpy algorithm average time: \",np_avg)\n",
    "print(\"my algorithm standard deviation : \",my_std)\n",
    "print(\"numpy algorithm standard deviation: \",np_std)"
   ]
  },
  {
   "cell_type": "markdown",
   "id": "6ee16123",
   "metadata": {},
   "source": [
    "If we compare the time taken $+/-$ respective standard deviation, it is clear that numpy is faster. Also, the standard deviation is quite similar.<br> \n",
    "The reasons are as follows:<br>\n",
    "1. Numpy array stores similar data type elements in contiguous memory, whereas python lists store different data types in non-contiguous memory locations. So, retrival of data is bit faster in numpy arrays.\n",
    "2. Numpy package breaks the required task into multiple fragments, and execute things concurrently.\n",
    "3. Numpy core package is built using C, C++, and other languages which are faster than python.\n"
   ]
  },
  {
   "cell_type": "markdown",
   "id": "360dbc4a",
   "metadata": {},
   "source": [
    "### Question 3"
   ]
  },
  {
   "cell_type": "markdown",
   "id": "588f408d",
   "metadata": {},
   "source": [
    "1. The time complexity using the method given in the question would be $O(n^{2})$. \n",
    "2. The better way could be sorting the array and extracting the median accordingly. This method takes $O(n\\log{n}) $.\n"
   ]
  },
  {
   "cell_type": "code",
   "execution_count": 487,
   "id": "c48eba8c",
   "metadata": {},
   "outputs": [],
   "source": [
    "import time \n",
    "import sys"
   ]
  },
  {
   "cell_type": "code",
   "execution_count": 488,
   "id": "f9410436",
   "metadata": {},
   "outputs": [],
   "source": [
    "N = 50\n",
    "ar = [randint(0,50) for i in range(N)]\n",
    "def que_median() :\n",
    "    begin = time.time()\n",
    "    mid1 = 0\n",
    "    mid2 = 0\n",
    "    hashmap = [0 for i in range(N)]\n",
    "    bf = 51 \n",
    "    \n",
    "    def search() :\n",
    "        nonlocal hashmap\n",
    "        nonlocal bf\n",
    "        j = 0 ;\n",
    "        bfr = 51\n",
    "        for i in range(N) :\n",
    "            if hashmap[i] == 0 and ar[i] <=bfr:\n",
    "                bfr  = ar[i]\n",
    "                j = i\n",
    "        hashmap[j] = 1\n",
    "        bf= bfr\n",
    "#         display(hashmap)\n",
    "#         print(bf)\n",
    "        \n",
    "    \n",
    "    for i in range(N//2 +1) :\n",
    "        search()\n",
    "        if (i==N//2) :\n",
    "            mid1 = bf\n",
    "        elif (i == (N//2) -1) :\n",
    "            mid2 = bf\n",
    "    ans = 0.0\n",
    "    if N%2 == 0 :\n",
    "        ans = (mid1+mid2)/2 \n",
    "    else :\n",
    "        ans =  mid1 \n",
    "        \n",
    "    end = time.time()\n",
    "#     print(ans)\n",
    "    return end-begin\n",
    "        \n",
    "\n",
    "def my_median() :\n",
    "    begin = time.time()\n",
    "    ar.sort() \n",
    "    ans = 0.0\n",
    "    if (N%2 == 0) :\n",
    "        ans = (ar[N//2]+ar[N//2 -1])/2\n",
    "    else :\n",
    "        ans = ar[N//2]\n",
    "        \n",
    "    end = time.time()\n",
    "#     print(ans)\n",
    "    return end-begin\n",
    "\n",
    "def np_median() :\n",
    "    begin = time.time()\n",
    "    ans = np.median(ar)\n",
    "    end = time.time()\n",
    "#     print(ans)\n",
    "    return end-begin\n",
    "    \n",
    "# print(ar)\n",
    "# print(\"question median\", que_median(ar))\n",
    "# print(\"better median\", my_median(ar))\n"
   ]
  },
  {
   "cell_type": "code",
   "execution_count": 489,
   "id": "d34e4c49",
   "metadata": {},
   "outputs": [
    {
     "name": "stdout",
     "output_type": "stream",
     "text": [
      "question avg:  7.907176017761231e-05\n",
      "my avg:  6.537437438964844e-07\n",
      "np avg:  2.0750999450683594e-05\n",
      "quesiton std dev:  1.0745922890739683e-05\n",
      "my std dev:  3.024662703140028e-07\n",
      "np std dev:  2.4548879539203075e-05\n"
     ]
    }
   ],
   "source": [
    "M = 1000\n",
    "que_time = np.zeros(M,float)\n",
    "my_time = np.zeros(M,float)\n",
    "np_time = np.zeros(M,float)\n",
    "\n",
    "for i in range(M) :\n",
    "    que_time[i] = que_median()\n",
    "    my_time[i] = my_median()\n",
    "    np_time[i] = np_median()\n",
    "\n",
    "que_mean = np.mean(que_time)\n",
    "my_mean = np.mean(my_time)\n",
    "np_mean = np.mean(np_time)\n",
    "que_std = np.std(que_time)\n",
    "my_std = np.std(my_time)\n",
    "np_std = np.std(np_time)\n",
    "\n",
    "\n",
    "print(\"question avg: \",que_mean)\n",
    "print(\"my avg: \",my_mean)\n",
    "print(\"np avg: \",np_mean)\n",
    "print(\"quesiton std dev: \",que_std)\n",
    "print(\"my std dev: \",my_std)\n",
    "print(\"np std dev: \",np_std)"
   ]
  },
  {
   "cell_type": "markdown",
   "id": "b8f1514f",
   "metadata": {},
   "source": [
    "1. The order of fastness of question algorithm, my algorithm, and numpy algorithm is ***my_algo > np_algo > que_algo***.\n",
    "2. My algorithm is the fastest among the three."
   ]
  },
  {
   "cell_type": "markdown",
   "id": "6b974248",
   "metadata": {},
   "source": [
    "### Question 4"
   ]
  },
  {
   "cell_type": "markdown",
   "id": "a23ec7c6",
   "metadata": {},
   "source": [
    "1. The gradient of $ f = x^{2}y + y^{3}\\sin(x) $ is given as $  \\frac{\\partial f}{\\partial x} i + \\frac{\\partial f}{\\partial y} j$ <br>\n",
    "2. The gradient with respect to x is $  \\frac{\\partial f}{\\partial x} = 2xy + y^{3}\\cos(x) $ <br>\n",
    "3. The gradient with respect to y is $  \\frac{\\partial f}{\\partial y} = x^{2} + 3y^{2}\\sin(x) $\n"
   ]
  },
  {
   "cell_type": "markdown",
   "id": "c568bf4a",
   "metadata": {},
   "source": [
    "### Question 5"
   ]
  },
  {
   "cell_type": "code",
   "execution_count": 490,
   "id": "87d161c8",
   "metadata": {},
   "outputs": [],
   "source": [
    "import jax.numpy as jnp \n",
    "from jax import grad\n",
    "import random"
   ]
  },
  {
   "cell_type": "code",
   "execution_count": 491,
   "id": "aac70d89",
   "metadata": {},
   "outputs": [],
   "source": [
    "def f(x) :\n",
    "    i = x[0]\n",
    "    j = x[1] \n",
    "    return (j*(i**2) + jnp.sin(i)*(j**3) )\n",
    "\n",
    "def explicit_grad(x) :\n",
    "    i = x[0]\n",
    "    j = x[1]\n",
    "    return jnp.array([2*i*j + jnp.cos(i)*(j**3), i**2 + 3*(j**2)*jnp.sin(i)])"
   ]
  },
  {
   "cell_type": "code",
   "execution_count": 492,
   "id": "df0cefac",
   "metadata": {},
   "outputs": [],
   "source": [
    "jax_grad = grad(f) \n",
    "ip = jnp.array([[random.uniform(0.1,4) for _ in range(2)] for i in range(5)])"
   ]
  },
  {
   "cell_type": "code",
   "execution_count": 493,
   "id": "03e107d5",
   "metadata": {},
   "outputs": [
    {
     "name": "stdout",
     "output_type": "stream",
     "text": [
      "my gradient:  [12.081848   4.4639573]\n",
      "jax gradient:  [12.081848   4.4639573]\n",
      "my gradient:  [6.910215 9.147199]\n",
      "jax gradient:  [6.910215 9.147199]\n",
      "my gradient:  [3.2597013 6.125904 ]\n",
      "jax gradient:  [3.2597013 6.125904 ]\n",
      "my gradient:  [17.698744 31.1539  ]\n",
      "jax gradient:  [17.698744 31.1539  ]\n",
      "my gradient:  [24.479326 15.434936]\n",
      "jax gradient:  [24.479326 15.434936]\n"
     ]
    }
   ],
   "source": [
    "for i in ip :\n",
    "    print(\"my gradient: \",explicit_grad(i))\n",
    "    print(\"jax gradient: \",jax_grad(i))"
   ]
  },
  {
   "cell_type": "markdown",
   "id": "55d5f7d6",
   "metadata": {},
   "source": [
    "If we compare the values they both came out to be equal"
   ]
  },
  {
   "cell_type": "markdown",
   "id": "0c169388",
   "metadata": {},
   "source": [
    "### Question 6"
   ]
  },
  {
   "cell_type": "code",
   "execution_count": 494,
   "id": "b4cbd079",
   "metadata": {},
   "outputs": [
    {
     "data": {
      "text/latex": [
       "$\\displaystyle \\left(2 \\mathbf{{x}_{R}} \\mathbf{{y}_{R}} + \\mathbf{{y}_{R}}^{3} \\cos{\\left(\\mathbf{{x}_{R}} \\right)}\\right)\\mathbf{\\hat{i}_{R}} + \\left(\\mathbf{{x}_{R}}^{2} + 3 \\mathbf{{y}_{R}}^{2} \\sin{\\left(\\mathbf{{x}_{R}} \\right)}\\right)\\mathbf{\\hat{j}_{R}}$"
      ],
      "text/plain": [
       "(2*R.x*R.y + R.y**3*cos(R.x))*R.i + (R.x**2 + 3*R.y**2*sin(R.x))*R.j"
      ]
     },
     "metadata": {},
     "output_type": "display_data"
    }
   ],
   "source": [
    "import sympy\n",
    "from sympy.vector import gradient, CoordSys3D\n",
    "R = CoordSys3D('R')\n",
    "# x = 2\n",
    "# y = 3\n",
    "f = (R.x**2)*R.y+R.y**3*(sympy.sin(R.x))\n",
    "grad = gradient(f,R)\n",
    "display(grad)\n"
   ]
  },
  {
   "cell_type": "markdown",
   "id": "0f0d0535",
   "metadata": {},
   "source": [
    "The gradient obtained by my method is same as that of sympy's gradient"
   ]
  },
  {
   "cell_type": "markdown",
   "id": "471b16de",
   "metadata": {},
   "source": [
    "### Question 7"
   ]
  },
  {
   "cell_type": "code",
   "execution_count": 495,
   "id": "ba7189c8",
   "metadata": {},
   "outputs": [
    {
     "data": {
      "text/plain": [
       "{2022: {'Branch1': {1: {'Name': 'name1',\n",
       "    'Marks': {'Sub1': 1, 'Sub2': 2, 'Sub3': 3}},\n",
       "   2: {'Name': 'name2', 'Marks': {'Sub1': 1, 'Sub2': 2, 'Sub3': 3}},\n",
       "   3: {'Name': 'name3', 'Marks': {'Sub1': 1, 'Sub2': 2, 'Sub3': 3}}},\n",
       "  'Branch2': {1: {'Name': 'name1', 'Marks': {'Sub1': 1, 'Sub2': 2, 'Sub3': 3}},\n",
       "   2: {'Name': 'name2', 'Marks': {'Sub1': 1, 'Sub2': 2, 'Sub3': 3}},\n",
       "   3: {'Name': 'name3', 'Marks': {'Sub1': 1, 'Sub2': 2, 'Sub3': 3}}}},\n",
       " 2023: {'Branch1': {1: {'Name': 'siva',\n",
       "    'Marks': {'Sub1': 1, 'Sub2': 2, 'Sub3': 3}},\n",
       "   2: {'Name': 'name2', 'Marks': {'Sub1': 1, 'Sub2': 2, 'Sub3': 3}},\n",
       "   3: {'Name': 'name3', 'Marks': {'Sub1': 1, 'Sub2': 2, 'Sub3': 3}}},\n",
       "  'Branch2': {1: {'Name': 'name1', 'Marks': {'Sub1': 1, 'Sub2': 2, 'Sub3': 3}},\n",
       "   2: {'Name': 'name2', 'Marks': {'Sub1': 1, 'Sub2': 2, 'Sub3': 3}},\n",
       "   3: {'Name': 'name3', 'Marks': {'Sub1': 1, 'Sub2': 2, 'Sub3': 3}}}},\n",
       " 2024: {'Branch1': {1: {'Name': 'name1',\n",
       "    'Marks': {'Sub1': 1, 'Sub2': 2, 'Sub3': 3}},\n",
       "   2: {'Name': 'name2', 'Marks': {'Sub1': 1, 'Sub2': 2, 'Sub3': 3}},\n",
       "   3: {'Name': 'name3', 'Marks': {'Sub1': 1, 'Sub2': 2, 'Sub3': 3}}},\n",
       "  'Branch2': {1: {'Name': 'name1', 'Marks': {'Sub1': 1, 'Sub2': 2, 'Sub3': 3}},\n",
       "   2: {'Name': 'name2', 'Marks': {'Sub1': 1, 'Sub2': 2, 'Sub3': 3}},\n",
       "   3: {'Name': 'name3', 'Marks': {'Sub1': 1, 'Sub2': 2, 'Sub3': 3}}}},\n",
       " 2025: {'Branch1': {1: {'Name': 'name1',\n",
       "    'Marks': {'Sub1': 1, 'Sub2': 2, 'Sub3': 3}},\n",
       "   2: {'Name': 'name2', 'Marks': {'Sub1': 1, 'Sub2': 2, 'Sub3': 3}},\n",
       "   3: {'Name': 'name3', 'Marks': {'Sub1': 1, 'Sub2': 2, 'Sub3': 3}}},\n",
       "  'Branch2': {1: {'Name': 'name1', 'Marks': {'Sub1': 1, 'Sub2': 2, 'Sub3': 3}},\n",
       "   2: {'Name': 'name2', 'Marks': {'Sub1': 1, 'Sub2': 2, 'Sub3': 3}},\n",
       "   3: {'Name': 'name3', 'Marks': {'Sub1': 1, 'Sub2': 2, 'Sub3': 3}}}}}"
      ]
     },
     "metadata": {},
     "output_type": "display_data"
    }
   ],
   "source": [
    "student = {'Name':\"abc\",\"Marks\":{'Maths':70, 'Phy':60, 'Che':80}}\n",
    "database ={i:{ f'Branch{j}' : { k : {'Name':f'name{k}',\"Marks\":{ f\"Sub{l}\": l\n",
    "                                                                for l in range(1,4)  }} \n",
    "                               for k in range(1,4) }\n",
    "              for j in range(1,3) } \n",
    "           for i in range(2022,2026)} ;\n",
    "# for i in range(2022,2026) :\n",
    "    \n",
    "#     database[i] = \n",
    "database[2023][\"Branch1\"][1]['Name'] = \"siva\" #changing only the particular student name\n",
    "display(database)"
   ]
  },
  {
   "cell_type": "markdown",
   "id": "a03b8d0b",
   "metadata": {},
   "source": [
    "### Question 8"
   ]
  },
  {
   "cell_type": "code",
   "execution_count": 496,
   "id": "af5709a3",
   "metadata": {},
   "outputs": [
    {
     "name": "stdout",
     "output_type": "stream",
     "text": [
      "2022\n",
      "Branch1\n",
      "[1,StudentName1,{'Sub1': 506, 'Sub2': 506}]\n",
      "[2,StudentName2,{'Sub1': 506, 'Sub2': 506}]\n",
      "[3,StudentName3,{'Sub1': 506, 'Sub2': 507}]\n",
      "Branch2\n",
      "[1,StudentName1,{'Sub1': 506, 'Sub2': 506}]\n",
      "[2,StudentName2,{'Sub1': 506, 'Sub2': 507}]\n",
      "[3,StudentName3,{'Sub1': 507, 'Sub2': 507}]\n",
      "\n",
      "2023\n",
      "Branch1\n",
      "[1,StudentName1,{'Sub1': 506, 'Sub2': 506}]\n",
      "[2,StudentName2,{'Sub1': 506, 'Sub2': 507}]\n",
      "[3,StudentName3,{'Sub1': 507, 'Sub2': 507}]\n",
      "Branch2\n",
      "[1,StudentName1,{'Sub1': 506, 'Sub2': 507}]\n",
      "[2,StudentName2,{'Sub1': 507, 'Sub2': 507}]\n",
      "[3,StudentName3,{'Sub1': 507, 'Sub2': 507}]\n",
      "\n",
      "2024\n",
      "Branch1\n",
      "[1,StudentName1,{'Sub1': 506, 'Sub2': 507}]\n",
      "[2,StudentName2,{'Sub1': 507, 'Sub2': 507}]\n",
      "[3,StudentName3,{'Sub1': 507, 'Sub2': 507}]\n",
      "Branch2\n",
      "[1,StudentName1,{'Sub1': 507, 'Sub2': 507}]\n",
      "[2,StudentName2,{'Sub1': 507, 'Sub2': 507}]\n",
      "[3,StudentName3,{'Sub1': 507, 'Sub2': 507}]\n",
      "\n",
      "2025\n",
      "Branch1\n",
      "[1,StudentName1,{'Sub1': 507, 'Sub2': 507}]\n",
      "[2,StudentName2,{'Sub1': 507, 'Sub2': 507}]\n",
      "[3,StudentName3,{'Sub1': 507, 'Sub2': 507}]\n",
      "Branch2\n",
      "[1,StudentName1,{'Sub1': 507, 'Sub2': 507}]\n",
      "[2,StudentName2,{'Sub1': 507, 'Sub2': 507}]\n",
      "[3,StudentName3,{'Sub1': 507, 'Sub2': 508}]\n",
      "\n",
      "\n",
      "\n",
      "[1,StudentName1,{'Sub1': 506, 'Sub2': 506}]\n",
      "Name100\n"
     ]
    }
   ],
   "source": [
    "class yearData :\n",
    "  def __init__(self,year,branches) :\n",
    "    self.year = year\n",
    "    self.branches = branches\n",
    "    \n",
    "  def __str__(self) :\n",
    "    return f'[{self.year},{self.branches}]'\n",
    "    \n",
    "class branches :\n",
    "  def __init__(self,branch,students) :\n",
    "    self.branch = branch\n",
    "    self.students = students\n",
    "  def __str__(self) :\n",
    "    return f'{self.branch},{self.students}'\n",
    "        \n",
    "    \n",
    "class Student :\n",
    "  def __init__(self,roll,name,marks) :\n",
    "        self.roll = roll\n",
    "        self.name = name\n",
    "        self.marks = marks\n",
    "  def __str__(self) :\n",
    "    return f'[{self.roll},{self.name},{self.marks}]'\n",
    "        \n",
    "\n",
    "\n",
    "dataBase = [yearData(i,[branches(f'Branch{j}', [Student(k,f'StudentName{k}', {f'Sub{l}': (i+j+k+l)//4 for l in range(1,3) } ) \n",
    "                                                for k in range(1,4) ] ) \n",
    "                        for j in range(1,3) ] ) \n",
    "            for i in range(2022,2026)]\n",
    "\n",
    "# print(dataBase[i].branches[j].students[k] for k in range(len(dataBase[i].branches[j].students))\n",
    "#      for j in range(len(dataBase[i].branches))\n",
    "#      for i in range(len(dataBase)))\n",
    "\n",
    "#displaying the dataBase\n",
    "for i in range(len(dataBase)) :\n",
    "    print(dataBase[i].year) \n",
    "    for j in range(len(dataBase[i].branches)) :\n",
    "        print(dataBase[i].branches[j].branch) \n",
    "        for k in range(len(dataBase[i].branches[j].students)) :\n",
    "            print(dataBase[i].branches[j].students[k])\n",
    "    print()\n",
    "    \n",
    "\n",
    "    \n",
    "print() \n",
    "print()#changing the name of the student\n",
    "print(dataBase[0].branches[0].students[0])\n",
    "dataBase[0].branches[0].students[0].name = \"Name100\"\n",
    "print(dataBase[0].branches[0].students[0].name)\n"
   ]
  },
  {
   "cell_type": "markdown",
   "id": "d664df2d",
   "metadata": {},
   "source": [
    "### Question 9"
   ]
  },
  {
   "cell_type": "code",
   "execution_count": 497,
   "id": "76cc07b3",
   "metadata": {
    "scrolled": false
   },
   "outputs": [
    {
     "data": {
      "image/png": "[encoded data removed]",
      "text/plain": [
       "<Figure size 1000x1000 with 9 Axes>"
      ]
     },
     "metadata": {},
     "output_type": "display_data"
    }
   ],
   "source": [
    "import numpy as np\n",
    "from matplotlib import pyplot as plt\n",
    "\n",
    "# plt.rcParams[\"figure.figsize\"] = [2, 2]\n",
    "\n",
    "# x = np.linspace(0.5, 100, 199)\n",
    "# y = x\n",
    "\n",
    "\n",
    "figure, axis = plt.subplots(3,3)\n",
    "\n",
    "plt.rcParams[\"figure.figsize\"] = [10,10]\n",
    "axis[0,0].plot(x,x)\n",
    "axis[0,0].set_title(\"y=x\")\n",
    "\n",
    "axis[0,1].plot(x,x**2)\n",
    "axis[0,1].set_title(\"$y=x^{2}$\")\n",
    "\n",
    "axis[0,2].plot(x,(x**3)/100)\n",
    "axis[0,2].set_title(\"$y = {x^3}/{100} $\")\n",
    "\n",
    "axis[1,0].plot(x,np.sin(x))\n",
    "axis[1,0].set_title(\"$ y = \\sin(x)$\")\n",
    "\n",
    "axis[1,1].plot(x,np.sin(x)/x)\n",
    "axis[1,1].set_title(\"$y = \\sin(x)/x$\")\n",
    "\n",
    "axis[1,2].plot(x,np.log(x))\n",
    "axis[1,2].set_title(\"$y = \\log(x)$\")\n",
    "\n",
    "axis[2,0].plot(x,np.exp(x))\n",
    "axis[2,0].set_title(\"$y = e^{x}$\")\n",
    "\n",
    "axis[2,1].set_title(\"$NOTHING$\")\n",
    "axis[2,2].set_title(\"$NOTHING$\")\n",
    "plt.show()"
   ]
  },
  {
   "cell_type": "markdown",
   "id": "16f19172",
   "metadata": {},
   "source": [
    "### Question 10"
   ]
  },
  {
   "cell_type": "code",
   "execution_count": 498,
   "id": "ba338b48",
   "metadata": {},
   "outputs": [
    {
     "name": "stdout",
     "output_type": "stream",
     "text": [
      "           a         b         c         d         e\n",
      "0   1.039566  1.428169  1.302741  1.790170  1.196833\n",
      "1   1.737954  1.278228  1.008390  1.485451  1.639538\n",
      "2   1.429683  1.177872  1.260113  1.811934  1.105029\n",
      "3   1.869242  1.105108  1.536090  1.617632  1.422672\n",
      "4   1.713535  1.447063  1.482182  1.564866  1.484944\n",
      "5   1.910236  1.302289  1.829401  1.432867  1.027529\n",
      "6   1.841472  1.409248  1.501106  1.107441  1.265059\n",
      "7   1.809055  1.153400  1.826414  1.070798  1.526054\n",
      "8   1.002333  1.763191  1.017302  1.594953  1.189832\n",
      "9   1.403775  1.539785  1.764528  1.270569  1.403500\n",
      "10  1.440512  1.141041  1.162297  1.906368  1.940418\n",
      "11  1.386144  1.152853  1.535947  1.659556  1.458483\n",
      "12  1.182707  1.467044  1.345353  1.985981  1.225903\n",
      "13  1.587197  1.011261  1.793540  1.315814  1.695062\n",
      "14  1.886960  1.568313  1.409383  1.993679  1.072810\n",
      "15  1.606512  1.711827  1.136494  1.793887  1.720622\n",
      "16  1.438929  1.624608  1.548367  1.701970  1.446371\n",
      "17  1.240173  1.863409  1.236026  1.703584  1.386820\n",
      "18  1.112220  1.120281  1.436348  1.875834  1.789826\n",
      "19  1.455835  1.698705  1.124405  1.324924  1.698962\n"
     ]
    },
    {
     "data": {
      "text/plain": [
       "a    0.290356\n",
       "b    0.253185\n",
       "c    0.260434\n",
       "d    0.276015\n",
       "e    0.256754\n",
       "dtype: float64"
      ]
     },
     "metadata": {},
     "output_type": "display_data"
    },
    {
     "data": {
      "text/plain": [
       "0     1.351496\n",
       "1     1.429912\n",
       "2     1.356926\n",
       "3     1.510149\n",
       "4     1.538518\n",
       "5     1.500464\n",
       "6     1.424865\n",
       "7     1.477144\n",
       "8     1.313522\n",
       "9     1.476431\n",
       "10    1.518127\n",
       "11    1.438596\n",
       "12    1.441398\n",
       "13    1.480575\n",
       "14    1.586229\n",
       "15    1.593868\n",
       "16    1.552049\n",
       "17    1.486003\n",
       "18    1.466902\n",
       "19    1.460566\n",
       "dtype: float64"
      ]
     },
     "metadata": {},
     "output_type": "display_data"
    },
    {
     "name": "stdout",
     "output_type": "stream",
     "text": [
      "In the current execution, the column with highest standard deviation is ath column, and the row with lowest mean is 1th row\n"
     ]
    }
   ],
   "source": [
    "import pandas as pd\n",
    "ar = np.random.uniform(1,2,(20,5))\n",
    "# display(ar)\n",
    "\n",
    "columns = ['a','b','c','d','e']\n",
    "# row = [i for i in range(1,21)]\n",
    "df = pd.DataFrame(data = ar,columns = columns)\n",
    "print(df) #displaying the dataframe\n",
    "\n",
    "# display(df.mean())\n",
    "display((df.std()))\n",
    "\n",
    "display(df.mean(axis = 1))\n",
    "\n",
    "c = int(np.argmax(np.array(df.std())))\n",
    "# print(c)\n",
    "r = int(np.argmin(np.array(df.mean(axis = 0))))\n",
    "\n",
    "print(f\"In the current execution, the column with highest standard deviation is {chr(ord('a')+c)}th column, and the row with lowest mean is {r}th row\")"
   ]
  },
  {
   "cell_type": "markdown",
   "id": "86cd21ae",
   "metadata": {},
   "source": [
    "The column with highest standard deviation, and the row with lowest mean will change for each execution"
   ]
  },
  {
   "cell_type": "markdown",
   "id": "d567c5a9",
   "metadata": {},
   "source": [
    "### Question 11"
   ]
  },
  {
   "cell_type": "markdown",
   "id": "a76c9165",
   "metadata": {},
   "source": [
    "**Note:**\n",
    "1. Run Question 11 Cell only after Question 10 Cell is Run. \n",
    "2. Also, if you want to re-run Ques 11 cell again, follow step 1.\n"
   ]
  },
  {
   "cell_type": "code",
   "execution_count": 499,
   "id": "61841c8f",
   "metadata": {},
   "outputs": [
    {
     "data": {
      "text/html": [
       "<div>\n",
       "<style scoped>\n",
       "    .dataframe tbody tr th:only-of-type {\n",
       "        vertical-align: middle;\n",
       "    }\n",
       "\n",
       "    .dataframe tbody tr th {\n",
       "        vertical-align: top;\n",
       "    }\n",
       "\n",
       "    .dataframe thead th {\n",
       "        text-align: right;\n",
       "    }\n",
       "</style>\n",
       "<table border=\"1\" class=\"dataframe\">\n",
       "  <thead>\n",
       "    <tr style=\"text-align: right;\">\n",
       "      <th></th>\n",
       "      <th>a</th>\n",
       "      <th>b</th>\n",
       "      <th>c</th>\n",
       "      <th>d</th>\n",
       "      <th>e</th>\n",
       "      <th>f</th>\n",
       "      <th>g</th>\n",
       "    </tr>\n",
       "  </thead>\n",
       "  <tbody>\n",
       "    <tr>\n",
       "      <th>0</th>\n",
       "      <td>1.039566</td>\n",
       "      <td>1.428169</td>\n",
       "      <td>1.302741</td>\n",
       "      <td>1.790170</td>\n",
       "      <td>1.196833</td>\n",
       "      <td>6.757479</td>\n",
       "      <td>LT8</td>\n",
       "    </tr>\n",
       "    <tr>\n",
       "      <th>1</th>\n",
       "      <td>1.737954</td>\n",
       "      <td>1.278228</td>\n",
       "      <td>1.008390</td>\n",
       "      <td>1.485451</td>\n",
       "      <td>1.639538</td>\n",
       "      <td>7.149561</td>\n",
       "      <td>LT8</td>\n",
       "    </tr>\n",
       "    <tr>\n",
       "      <th>2</th>\n",
       "      <td>1.429683</td>\n",
       "      <td>1.177872</td>\n",
       "      <td>1.260113</td>\n",
       "      <td>1.811934</td>\n",
       "      <td>1.105029</td>\n",
       "      <td>6.784631</td>\n",
       "      <td>LT8</td>\n",
       "    </tr>\n",
       "    <tr>\n",
       "      <th>3</th>\n",
       "      <td>1.869242</td>\n",
       "      <td>1.105108</td>\n",
       "      <td>1.536090</td>\n",
       "      <td>1.617632</td>\n",
       "      <td>1.422672</td>\n",
       "      <td>7.550744</td>\n",
       "      <td>LT8</td>\n",
       "    </tr>\n",
       "    <tr>\n",
       "      <th>4</th>\n",
       "      <td>1.713535</td>\n",
       "      <td>1.447063</td>\n",
       "      <td>1.482182</td>\n",
       "      <td>1.564866</td>\n",
       "      <td>1.484944</td>\n",
       "      <td>7.692589</td>\n",
       "      <td>LT8</td>\n",
       "    </tr>\n",
       "    <tr>\n",
       "      <th>5</th>\n",
       "      <td>1.910236</td>\n",
       "      <td>1.302289</td>\n",
       "      <td>1.829401</td>\n",
       "      <td>1.432867</td>\n",
       "      <td>1.027529</td>\n",
       "      <td>7.502322</td>\n",
       "      <td>LT8</td>\n",
       "    </tr>\n",
       "    <tr>\n",
       "      <th>6</th>\n",
       "      <td>1.841472</td>\n",
       "      <td>1.409248</td>\n",
       "      <td>1.501106</td>\n",
       "      <td>1.107441</td>\n",
       "      <td>1.265059</td>\n",
       "      <td>7.124326</td>\n",
       "      <td>LT8</td>\n",
       "    </tr>\n",
       "    <tr>\n",
       "      <th>7</th>\n",
       "      <td>1.809055</td>\n",
       "      <td>1.153400</td>\n",
       "      <td>1.826414</td>\n",
       "      <td>1.070798</td>\n",
       "      <td>1.526054</td>\n",
       "      <td>7.385720</td>\n",
       "      <td>LT8</td>\n",
       "    </tr>\n",
       "    <tr>\n",
       "      <th>8</th>\n",
       "      <td>1.002333</td>\n",
       "      <td>1.763191</td>\n",
       "      <td>1.017302</td>\n",
       "      <td>1.594953</td>\n",
       "      <td>1.189832</td>\n",
       "      <td>6.567612</td>\n",
       "      <td>LT8</td>\n",
       "    </tr>\n",
       "    <tr>\n",
       "      <th>9</th>\n",
       "      <td>1.403775</td>\n",
       "      <td>1.539785</td>\n",
       "      <td>1.764528</td>\n",
       "      <td>1.270569</td>\n",
       "      <td>1.403500</td>\n",
       "      <td>7.382157</td>\n",
       "      <td>LT8</td>\n",
       "    </tr>\n",
       "    <tr>\n",
       "      <th>10</th>\n",
       "      <td>1.440512</td>\n",
       "      <td>1.141041</td>\n",
       "      <td>1.162297</td>\n",
       "      <td>1.906368</td>\n",
       "      <td>1.940418</td>\n",
       "      <td>7.590635</td>\n",
       "      <td>LT8</td>\n",
       "    </tr>\n",
       "    <tr>\n",
       "      <th>11</th>\n",
       "      <td>1.386144</td>\n",
       "      <td>1.152853</td>\n",
       "      <td>1.535947</td>\n",
       "      <td>1.659556</td>\n",
       "      <td>1.458483</td>\n",
       "      <td>7.192982</td>\n",
       "      <td>LT8</td>\n",
       "    </tr>\n",
       "    <tr>\n",
       "      <th>12</th>\n",
       "      <td>1.182707</td>\n",
       "      <td>1.467044</td>\n",
       "      <td>1.345353</td>\n",
       "      <td>1.985981</td>\n",
       "      <td>1.225903</td>\n",
       "      <td>7.206989</td>\n",
       "      <td>LT8</td>\n",
       "    </tr>\n",
       "    <tr>\n",
       "      <th>13</th>\n",
       "      <td>1.587197</td>\n",
       "      <td>1.011261</td>\n",
       "      <td>1.793540</td>\n",
       "      <td>1.315814</td>\n",
       "      <td>1.695062</td>\n",
       "      <td>7.402873</td>\n",
       "      <td>LT8</td>\n",
       "    </tr>\n",
       "    <tr>\n",
       "      <th>14</th>\n",
       "      <td>1.886960</td>\n",
       "      <td>1.568313</td>\n",
       "      <td>1.409383</td>\n",
       "      <td>1.993679</td>\n",
       "      <td>1.072810</td>\n",
       "      <td>7.931144</td>\n",
       "      <td>LT8</td>\n",
       "    </tr>\n",
       "    <tr>\n",
       "      <th>15</th>\n",
       "      <td>1.606512</td>\n",
       "      <td>1.711827</td>\n",
       "      <td>1.136494</td>\n",
       "      <td>1.793887</td>\n",
       "      <td>1.720622</td>\n",
       "      <td>7.969341</td>\n",
       "      <td>LT8</td>\n",
       "    </tr>\n",
       "    <tr>\n",
       "      <th>16</th>\n",
       "      <td>1.438929</td>\n",
       "      <td>1.624608</td>\n",
       "      <td>1.548367</td>\n",
       "      <td>1.701970</td>\n",
       "      <td>1.446371</td>\n",
       "      <td>7.760246</td>\n",
       "      <td>LT8</td>\n",
       "    </tr>\n",
       "    <tr>\n",
       "      <th>17</th>\n",
       "      <td>1.240173</td>\n",
       "      <td>1.863409</td>\n",
       "      <td>1.236026</td>\n",
       "      <td>1.703584</td>\n",
       "      <td>1.386820</td>\n",
       "      <td>7.430013</td>\n",
       "      <td>LT8</td>\n",
       "    </tr>\n",
       "    <tr>\n",
       "      <th>18</th>\n",
       "      <td>1.112220</td>\n",
       "      <td>1.120281</td>\n",
       "      <td>1.436348</td>\n",
       "      <td>1.875834</td>\n",
       "      <td>1.789826</td>\n",
       "      <td>7.334510</td>\n",
       "      <td>LT8</td>\n",
       "    </tr>\n",
       "    <tr>\n",
       "      <th>19</th>\n",
       "      <td>1.455835</td>\n",
       "      <td>1.698705</td>\n",
       "      <td>1.124405</td>\n",
       "      <td>1.324924</td>\n",
       "      <td>1.698962</td>\n",
       "      <td>7.302830</td>\n",
       "      <td>LT8</td>\n",
       "    </tr>\n",
       "  </tbody>\n",
       "</table>\n",
       "</div>"
      ],
      "text/plain": [
       "           a         b         c         d         e         f    g\n",
       "0   1.039566  1.428169  1.302741  1.790170  1.196833  6.757479  LT8\n",
       "1   1.737954  1.278228  1.008390  1.485451  1.639538  7.149561  LT8\n",
       "2   1.429683  1.177872  1.260113  1.811934  1.105029  6.784631  LT8\n",
       "3   1.869242  1.105108  1.536090  1.617632  1.422672  7.550744  LT8\n",
       "4   1.713535  1.447063  1.482182  1.564866  1.484944  7.692589  LT8\n",
       "5   1.910236  1.302289  1.829401  1.432867  1.027529  7.502322  LT8\n",
       "6   1.841472  1.409248  1.501106  1.107441  1.265059  7.124326  LT8\n",
       "7   1.809055  1.153400  1.826414  1.070798  1.526054  7.385720  LT8\n",
       "8   1.002333  1.763191  1.017302  1.594953  1.189832  6.567612  LT8\n",
       "9   1.403775  1.539785  1.764528  1.270569  1.403500  7.382157  LT8\n",
       "10  1.440512  1.141041  1.162297  1.906368  1.940418  7.590635  LT8\n",
       "11  1.386144  1.152853  1.535947  1.659556  1.458483  7.192982  LT8\n",
       "12  1.182707  1.467044  1.345353  1.985981  1.225903  7.206989  LT8\n",
       "13  1.587197  1.011261  1.793540  1.315814  1.695062  7.402873  LT8\n",
       "14  1.886960  1.568313  1.409383  1.993679  1.072810  7.931144  LT8\n",
       "15  1.606512  1.711827  1.136494  1.793887  1.720622  7.969341  LT8\n",
       "16  1.438929  1.624608  1.548367  1.701970  1.446371  7.760246  LT8\n",
       "17  1.240173  1.863409  1.236026  1.703584  1.386820  7.430013  LT8\n",
       "18  1.112220  1.120281  1.436348  1.875834  1.789826  7.334510  LT8\n",
       "19  1.455835  1.698705  1.124405  1.324924  1.698962  7.302830  LT8"
      ]
     },
     "execution_count": 499,
     "metadata": {},
     "output_type": "execute_result"
    }
   ],
   "source": [
    "bf = df.sum(axis = 1)\n",
    "df['f'] = bf \n",
    "# print(type(df['a'][1]))\n",
    "bf = ['LT8' if df['f'][i] < 8 else 'GT8' for i in range(20)]\n",
    "df['g'] = bf\n",
    "df"
   ]
  },
  {
   "cell_type": "code",
   "execution_count": 500,
   "id": "32c87827",
   "metadata": {},
   "outputs": [
    {
     "name": "stdout",
     "output_type": "stream",
     "text": [
      "The standard deviation for LT8's:  0.36716613602660964\n",
      "The standard deviation for GT8's:  nan\n"
     ]
    }
   ],
   "source": [
    "sigma_LT8 = df[df['g'] == 'LT8']['f'].std()\n",
    "sigma_GT8 = df[df['g'] == 'GT8']['f'].std()\n",
    "\n",
    "print(\"The standard deviation for LT8's: \",sigma_LT8)\n",
    "print(\"The standard deviation for GT8's: \",sigma_GT8)"
   ]
  },
  {
   "cell_type": "markdown",
   "id": "151cac8c",
   "metadata": {},
   "source": [
    "### Question 12"
   ]
  },
  {
   "cell_type": "code",
   "execution_count": 501,
   "id": "0dbc7405",
   "metadata": {},
   "outputs": [
    {
     "data": {
      "text/plain": [
       "array([[[10,  7,  7],\n",
       "        [11,  8,  8],\n",
       "        [10,  7,  7],\n",
       "        [13, 10, 10]],\n",
       "\n",
       "       [[ 9,  7, 10],\n",
       "        [10,  8, 11],\n",
       "        [ 9,  7, 10],\n",
       "        [12, 10, 13]],\n",
       "\n",
       "       [[ 5,  2,  6],\n",
       "        [ 6,  3,  7],\n",
       "        [ 5,  2,  6],\n",
       "        [ 8,  5,  9]],\n",
       "\n",
       "       [[10,  7,  9],\n",
       "        [11,  8, 10],\n",
       "        [10,  7,  9],\n",
       "        [13, 10, 12]]])"
      ]
     },
     "metadata": {},
     "output_type": "display_data"
    },
    {
     "name": "stdout",
     "output_type": "stream",
     "text": [
      "shape of m   (4, 1, 3)\n",
      "shape of n      (4, 1)\n",
      "shape of res (4, 4, 3)\n"
     ]
    }
   ],
   "source": [
    "# np.zeros((4))\n",
    "m = np.random.randint(1,high=10,size = (4,1,3))\n",
    "n = np.random.randint(1,high=10,size = (4,1))\n",
    "res = m+n\n",
    "display(res)\n",
    "print(\"shape of m  \",m.shape)\n",
    "print(\"shape of n     \",n.shape)\n",
    "print(\"shape of res\",res.shape)"
   ]
  },
  {
   "cell_type": "markdown",
   "id": "c562d33e",
   "metadata": {},
   "source": [
    "1. The shape of the m is $(4,1,3)$, and shape of n is $(4,1)$.\n",
    "2. Surprisingly, we got the resultant shape to be $(4,4,3)$.\n",
    "3. The reason behind this strange behaviour is Broadcasting.\n",
    "4. To perform the $+$ operation with n of shape $(4,1)$, the np array m stretches its shape to $(4,4,3)$. Similarly, n (assume shape to be $(1,4,3)$) stretches its shape to $(4,4,3)$.\n",
    "5. Now, they are addable. This stretching method is called Broadcasting.\n",
    "6. However, it is not applicable to all numpy arrays. \n",
    "7. For broadcasting to happen, we should compare their shapes:\n",
    ">i. They should have same dimension, or<br>\n",
    ">ii. Either one of them is 1.\n",
    "8. The shapes $(5,4,3)$ and $(3,1)$ do not broadcast.\n",
    ">(5,4,3)<br>\n",
    ">(1,3,1)<br>\n",
    ">(Y,**N**,Y)"
   ]
  },
  {
   "cell_type": "markdown",
   "id": "9e7bcaa0",
   "metadata": {},
   "source": [
    "### Question 13"
   ]
  },
  {
   "cell_type": "code",
   "execution_count": 502,
   "id": "f9a466d8",
   "metadata": {},
   "outputs": [],
   "source": [
    "def argmin(ar) :\n",
    "    ar = ar.flatten()\n",
    "    res = 51\n",
    "    j = 0\n",
    "    for i in range(len(ar)) :\n",
    "        if ar[i]<res :\n",
    "            j = i\n",
    "            res = ar[i]\n",
    "    return j"
   ]
  },
  {
   "cell_type": "code",
   "execution_count": 503,
   "id": "8d46e8d7",
   "metadata": {},
   "outputs": [
    {
     "name": "stdout",
     "output_type": "stream",
     "text": [
      "explict:   154\n",
      "numpy:     154\n",
      "explict:   4\n",
      "numpy:     4\n",
      "explict:   596\n",
      "numpy:     596\n",
      "explict:   569\n",
      "numpy:     569\n",
      "explict:   301\n",
      "numpy:     301\n"
     ]
    }
   ],
   "source": [
    "ar = [ np.random.uniform(1,50,(10,15,5)) for j in range(5) ]\n",
    "for i in ar :\n",
    "    print(\"explict:  \",argmin(i))\n",
    "    print(\"numpy:    \",np.argmin(i))"
   ]
  },
  {
   "cell_type": "markdown",
   "id": "79d11af5",
   "metadata": {},
   "source": [
    "1. The explict argmin function and the numpy argmin function gives the same result.\n",
    "2. Also, the explict argmin function is limited to one argument only unlike the numpy argmin function"
   ]
  },
  {
   "cell_type": "markdown",
   "id": "22ab56ca",
   "metadata": {},
   "source": [
    "# THE END"
   ]
  }
 ],
 "metadata": {
  "kernelspec": {
   "display_name": "Python 3 (ipykernel)",
   "language": "python",
   "name": "python3"
  },
  "language_info": {
   "codemirror_mode": {
    "name": "ipython",
    "version": 3
   },
   "file_extension": ".py",
   "mimetype": "text/x-python",
   "name": "python",
   "nbconvert_exporter": "python",
   "pygments_lexer": "ipython3",
   "version": "3.9.15"
  }
 },
 "nbformat": 4,
 "nbformat_minor": 5
}
